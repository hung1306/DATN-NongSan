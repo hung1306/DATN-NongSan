{
 "cells": [
  {
   "cell_type": "code",
   "execution_count": 1,
   "metadata": {},
   "outputs": [
    {
     "name": "stdout",
     "output_type": "stream",
     "text": [
      "Defaulting to user installation because normal site-packages is not writeable\n",
      "Requirement already satisfied: pandas in c:\\users\\admin\\appdata\\roaming\\python\\python311\\site-packages (2.2.2)\n",
      "Requirement already satisfied: numpy in c:\\users\\admin\\appdata\\roaming\\python\\python311\\site-packages (1.24.2)\n",
      "Requirement already satisfied: scikit-learn in c:\\users\\admin\\appdata\\roaming\\python\\python311\\site-packages (1.4.1.post1)\n",
      "Requirement already satisfied: underthesea in c:\\users\\admin\\appdata\\roaming\\python\\python311\\site-packages (6.8.4)\n",
      "Requirement already satisfied: scikit-surprise in c:\\users\\admin\\appdata\\roaming\\python\\python311\\site-packages (1.1.4)\n",
      "Requirement already satisfied: seaborn in c:\\users\\admin\\appdata\\roaming\\python\\python311\\site-packages (0.13.2)\n",
      "Requirement already satisfied: matplotlib in c:\\users\\admin\\appdata\\roaming\\python\\python311\\site-packages (3.8.4)\n",
      "Requirement already satisfied: python-dateutil>=2.8.2 in c:\\users\\admin\\appdata\\roaming\\python\\python311\\site-packages (from pandas) (2.9.0.post0)\n",
      "Requirement already satisfied: pytz>=2020.1 in c:\\users\\admin\\appdata\\roaming\\python\\python311\\site-packages (from pandas) (2024.1)\n",
      "Requirement already satisfied: tzdata>=2022.7 in c:\\users\\admin\\appdata\\roaming\\python\\python311\\site-packages (from pandas) (2022.7)\n",
      "Requirement already satisfied: scipy>=1.6.0 in c:\\users\\admin\\appdata\\roaming\\python\\python311\\site-packages (from scikit-learn) (1.13.0)\n",
      "Requirement already satisfied: joblib>=1.2.0 in c:\\users\\admin\\appdata\\roaming\\python\\python311\\site-packages (from scikit-learn) (1.3.2)\n",
      "Requirement already satisfied: threadpoolctl>=2.0.0 in c:\\users\\admin\\appdata\\roaming\\python\\python311\\site-packages (from scikit-learn) (3.4.0)\n",
      "Requirement already satisfied: Click>=6.0 in c:\\users\\admin\\appdata\\roaming\\python\\python311\\site-packages (from underthesea) (8.1.3)\n",
      "Requirement already satisfied: python-crfsuite>=0.9.6 in c:\\users\\admin\\appdata\\roaming\\python\\python311\\site-packages (from underthesea) (0.9.10)\n",
      "Requirement already satisfied: nltk in c:\\users\\admin\\appdata\\roaming\\python\\python311\\site-packages (from underthesea) (3.9.1)\n",
      "Requirement already satisfied: tqdm in c:\\users\\admin\\appdata\\roaming\\python\\python311\\site-packages (from underthesea) (4.64.1)\n",
      "Requirement already satisfied: requests in c:\\users\\admin\\appdata\\roaming\\python\\python311\\site-packages (from underthesea) (2.31.0)\n",
      "Requirement already satisfied: PyYAML in c:\\users\\admin\\appdata\\roaming\\python\\python311\\site-packages (from underthesea) (6.0.1)\n",
      "Requirement already satisfied: underthesea-core==1.0.4 in c:\\users\\admin\\appdata\\roaming\\python\\python311\\site-packages (from underthesea) (1.0.4)\n",
      "Requirement already satisfied: contourpy>=1.0.1 in c:\\users\\admin\\appdata\\roaming\\python\\python311\\site-packages (from matplotlib) (1.2.1)\n",
      "Requirement already satisfied: cycler>=0.10 in c:\\users\\admin\\appdata\\roaming\\python\\python311\\site-packages (from matplotlib) (0.12.1)\n",
      "Requirement already satisfied: fonttools>=4.22.0 in c:\\users\\admin\\appdata\\roaming\\python\\python311\\site-packages (from matplotlib) (4.51.0)\n",
      "Requirement already satisfied: kiwisolver>=1.3.1 in c:\\users\\admin\\appdata\\roaming\\python\\python311\\site-packages (from matplotlib) (1.4.5)\n",
      "Requirement already satisfied: packaging>=20.0 in c:\\users\\admin\\appdata\\roaming\\python\\python311\\site-packages (from matplotlib) (23.0)\n",
      "Requirement already satisfied: pillow>=8 in c:\\users\\admin\\appdata\\roaming\\python\\python311\\site-packages (from matplotlib) (9.5.0)\n",
      "Requirement already satisfied: pyparsing>=2.3.1 in c:\\users\\admin\\appdata\\roaming\\python\\python311\\site-packages (from matplotlib) (3.1.2)\n",
      "Requirement already satisfied: colorama in c:\\users\\admin\\appdata\\roaming\\python\\python311\\site-packages (from Click>=6.0->underthesea) (0.4.6)\n",
      "Requirement already satisfied: six>=1.5 in c:\\users\\admin\\appdata\\roaming\\python\\python311\\site-packages (from python-dateutil>=2.8.2->pandas) (1.16.0)\n",
      "Requirement already satisfied: regex>=2021.8.3 in c:\\users\\admin\\appdata\\roaming\\python\\python311\\site-packages (from nltk->underthesea) (2024.9.11)\n",
      "Requirement already satisfied: charset-normalizer<4,>=2 in c:\\users\\admin\\appdata\\roaming\\python\\python311\\site-packages (from requests->underthesea) (3.0.1)\n",
      "Requirement already satisfied: idna<4,>=2.5 in c:\\users\\admin\\appdata\\roaming\\python\\python311\\site-packages (from requests->underthesea) (3.4)\n",
      "Requirement already satisfied: urllib3<3,>=1.21.1 in c:\\users\\admin\\appdata\\roaming\\python\\python311\\site-packages (from requests->underthesea) (1.26.14)\n",
      "Requirement already satisfied: certifi>=2017.4.17 in c:\\users\\admin\\appdata\\roaming\\python\\python311\\site-packages (from requests->underthesea) (2022.12.7)\n"
     ]
    },
    {
     "name": "stderr",
     "output_type": "stream",
     "text": [
      "\n",
      "[notice] A new release of pip is available: 24.0 -> 24.3.1\n",
      "[notice] To update, run: python.exe -m pip install --upgrade pip\n"
     ]
    }
   ],
   "source": [
    "!pip install pandas numpy scikit-learn underthesea scikit-surprise seaborn matplotlib "
   ]
  },
  {
   "cell_type": "code",
   "execution_count": 2,
   "metadata": {},
   "outputs": [],
   "source": [
    "import pandas as pd\n",
    "import numpy as np\n",
    "\n",
    "# Collaborative Filtering Libraries\n",
    "from surprise import Dataset, Reader, SVD\n",
    "from surprise.model_selection import train_test_split, cross_validate\n",
    "from surprise import accuracy\n",
    "\n",
    "# Content-Based Filtering Libraries\n",
    "from sklearn.feature_extraction.text import TfidfVectorizer\n",
    "from sklearn.metrics.pairwise import linear_kernel\n",
    "from sklearn.preprocessing import MinMaxScaler\n",
    "\n",
    "\n",
    "# Visualization Libraries\n",
    "import matplotlib.pyplot as plt\n",
    "import seaborn as sns\n"
   ]
  },
  {
   "cell_type": "code",
   "execution_count": 3,
   "metadata": {},
   "outputs": [],
   "source": [
    "user_item_path = '../data/user_item_interactions.csv'\n",
    "product_content_path = '../data/product_contents.csv'\n",
    "user_item_df = pd.read_csv(user_item_path)\n",
    "product_content_df = pd.read_csv(product_content_path)"
   ]
  },
  {
   "cell_type": "code",
   "execution_count": null,
   "metadata": {},
   "outputs": [],
   "source": []
  },
  {
   "cell_type": "code",
   "execution_count": 4,
   "metadata": {},
   "outputs": [
    {
     "data": {
      "text/html": [
       "<div>\n",
       "<style scoped>\n",
       "    .dataframe tbody tr th:only-of-type {\n",
       "        vertical-align: middle;\n",
       "    }\n",
       "\n",
       "    .dataframe tbody tr th {\n",
       "        vertical-align: top;\n",
       "    }\n",
       "\n",
       "    .dataframe thead th {\n",
       "        text-align: right;\n",
       "    }\n",
       "</style>\n",
       "<table border=\"1\" class=\"dataframe\">\n",
       "  <thead>\n",
       "    <tr style=\"text-align: right;\">\n",
       "      <th></th>\n",
       "      <th>user_id</th>\n",
       "      <th>product_id</th>\n",
       "      <th>interaction_type</th>\n",
       "      <th>interaction_score</th>\n",
       "    </tr>\n",
       "  </thead>\n",
       "  <tbody>\n",
       "    <tr>\n",
       "      <th>0</th>\n",
       "      <td>16b94b68-3876-4b2e-a983-57c491b9e3de</td>\n",
       "      <td>75e094a1-bd7c-4dd9-a8c9-e4e28ac625bb</td>\n",
       "      <td>purchase</td>\n",
       "      <td>5</td>\n",
       "    </tr>\n",
       "    <tr>\n",
       "      <th>1</th>\n",
       "      <td>16b94b68-3876-4b2e-a983-57c491b9e3de</td>\n",
       "      <td>d70d9dbd-eb54-4888-875f-4da384a5a0a5</td>\n",
       "      <td>purchase</td>\n",
       "      <td>5</td>\n",
       "    </tr>\n",
       "    <tr>\n",
       "      <th>2</th>\n",
       "      <td>16b94b68-3876-4b2e-a983-57c491b9e3de</td>\n",
       "      <td>ae4b4eee-886c-47fd-8bb2-6126dcb5f0ae</td>\n",
       "      <td>purchase</td>\n",
       "      <td>5</td>\n",
       "    </tr>\n",
       "    <tr>\n",
       "      <th>3</th>\n",
       "      <td>16b94b68-3876-4b2e-a983-57c491b9e3de</td>\n",
       "      <td>6116fdf3-473f-4324-af54-1b950076ef52</td>\n",
       "      <td>purchase</td>\n",
       "      <td>5</td>\n",
       "    </tr>\n",
       "    <tr>\n",
       "      <th>4</th>\n",
       "      <td>49b80737-8f0a-463b-9a8b-c0f820ed5973</td>\n",
       "      <td>e9fcdf70-27d5-4da8-b082-3e3cfb515ba7</td>\n",
       "      <td>purchase</td>\n",
       "      <td>5</td>\n",
       "    </tr>\n",
       "  </tbody>\n",
       "</table>\n",
       "</div>"
      ],
      "text/plain": [
       "                                user_id                            product_id  \\\n",
       "0  16b94b68-3876-4b2e-a983-57c491b9e3de  75e094a1-bd7c-4dd9-a8c9-e4e28ac625bb   \n",
       "1  16b94b68-3876-4b2e-a983-57c491b9e3de  d70d9dbd-eb54-4888-875f-4da384a5a0a5   \n",
       "2  16b94b68-3876-4b2e-a983-57c491b9e3de  ae4b4eee-886c-47fd-8bb2-6126dcb5f0ae   \n",
       "3  16b94b68-3876-4b2e-a983-57c491b9e3de  6116fdf3-473f-4324-af54-1b950076ef52   \n",
       "4  49b80737-8f0a-463b-9a8b-c0f820ed5973  e9fcdf70-27d5-4da8-b082-3e3cfb515ba7   \n",
       "\n",
       "  interaction_type  interaction_score  \n",
       "0         purchase                  5  \n",
       "1         purchase                  5  \n",
       "2         purchase                  5  \n",
       "3         purchase                  5  \n",
       "4         purchase                  5  "
      ]
     },
     "execution_count": 4,
     "metadata": {},
     "output_type": "execute_result"
    }
   ],
   "source": [
    "user_item_df.head()"
   ]
  },
  {
   "cell_type": "code",
   "execution_count": 5,
   "metadata": {},
   "outputs": [
    {
     "data": {
      "text/html": [
       "<div>\n",
       "<style scoped>\n",
       "    .dataframe tbody tr th:only-of-type {\n",
       "        vertical-align: middle;\n",
       "    }\n",
       "\n",
       "    .dataframe tbody tr th {\n",
       "        vertical-align: top;\n",
       "    }\n",
       "\n",
       "    .dataframe thead th {\n",
       "        text-align: right;\n",
       "    }\n",
       "</style>\n",
       "<table border=\"1\" class=\"dataframe\">\n",
       "  <thead>\n",
       "    <tr style=\"text-align: right;\">\n",
       "      <th></th>\n",
       "      <th>productid</th>\n",
       "      <th>productname</th>\n",
       "      <th>categoryname</th>\n",
       "      <th>farmname</th>\n",
       "      <th>farmprovince</th>\n",
       "    </tr>\n",
       "  </thead>\n",
       "  <tbody>\n",
       "    <tr>\n",
       "      <th>0</th>\n",
       "      <td>6116fdf3-473f-4324-af54-1b950076ef52</td>\n",
       "      <td>Xoài Cát</td>\n",
       "      <td>Trái cây</td>\n",
       "      <td>Trang trại trái cây</td>\n",
       "      <td>Quảng Nam</td>\n",
       "    </tr>\n",
       "    <tr>\n",
       "      <th>1</th>\n",
       "      <td>e24af3cd-fc9f-400c-8c76-8aba05a803b5</td>\n",
       "      <td>Cải Bẹ Xanh</td>\n",
       "      <td>Rau lá</td>\n",
       "      <td>Rau Hữu Cơ</td>\n",
       "      <td>Lâm Đồng</td>\n",
       "    </tr>\n",
       "    <tr>\n",
       "      <th>2</th>\n",
       "      <td>b7237f07-c2bf-48d7-a630-3faaac02cfcc</td>\n",
       "      <td>Gạo ST25</td>\n",
       "      <td>Lương thực</td>\n",
       "      <td>Gạo sạch</td>\n",
       "      <td>Đồng Tháp</td>\n",
       "    </tr>\n",
       "    <tr>\n",
       "      <th>3</th>\n",
       "      <td>95827b65-ec7b-405b-bd26-6558d04211cf</td>\n",
       "      <td>Gạo nếp</td>\n",
       "      <td>Lương thực</td>\n",
       "      <td>Gạo sạch</td>\n",
       "      <td>Đồng Tháp</td>\n",
       "    </tr>\n",
       "    <tr>\n",
       "      <th>4</th>\n",
       "      <td>aaa373ef-1cfe-4e6a-9c87-eeba7eaec713</td>\n",
       "      <td>Mãng Cầu Xiêm</td>\n",
       "      <td>Trái cây</td>\n",
       "      <td>Ngũ sắc</td>\n",
       "      <td>Dak Lak</td>\n",
       "    </tr>\n",
       "  </tbody>\n",
       "</table>\n",
       "</div>"
      ],
      "text/plain": [
       "                              productid    productname categoryname  \\\n",
       "0  6116fdf3-473f-4324-af54-1b950076ef52       Xoài Cát     Trái cây   \n",
       "1  e24af3cd-fc9f-400c-8c76-8aba05a803b5    Cải Bẹ Xanh       Rau lá   \n",
       "2  b7237f07-c2bf-48d7-a630-3faaac02cfcc       Gạo ST25   Lương thực   \n",
       "3  95827b65-ec7b-405b-bd26-6558d04211cf        Gạo nếp   Lương thực   \n",
       "4  aaa373ef-1cfe-4e6a-9c87-eeba7eaec713  Mãng Cầu Xiêm     Trái cây   \n",
       "\n",
       "              farmname farmprovince  \n",
       "0  Trang trại trái cây    Quảng Nam  \n",
       "1           Rau Hữu Cơ     Lâm Đồng  \n",
       "2            Gạo sạch     Đồng Tháp  \n",
       "3            Gạo sạch     Đồng Tháp  \n",
       "4              Ngũ sắc      Dak Lak  "
      ]
     },
     "execution_count": 5,
     "metadata": {},
     "output_type": "execute_result"
    }
   ],
   "source": [
    "product_content_df.head()"
   ]
  },
  {
   "cell_type": "code",
   "execution_count": 8,
   "metadata": {},
   "outputs": [
    {
     "data": {
      "text/plain": [
       "(1005, 4)"
      ]
     },
     "execution_count": 8,
     "metadata": {},
     "output_type": "execute_result"
    }
   ],
   "source": [
    "user_item_df.shape"
   ]
  },
  {
   "cell_type": "code",
   "execution_count": 10,
   "metadata": {},
   "outputs": [
    {
     "data": {
      "text/plain": [
       "(200, 5)"
      ]
     },
     "execution_count": 10,
     "metadata": {},
     "output_type": "execute_result"
    }
   ],
   "source": [
    "product_content_df.shape"
   ]
  },
  {
   "cell_type": "code",
   "execution_count": 11,
   "metadata": {},
   "outputs": [
    {
     "data": {
      "text/html": [
       "<div>\n",
       "<style scoped>\n",
       "    .dataframe tbody tr th:only-of-type {\n",
       "        vertical-align: middle;\n",
       "    }\n",
       "\n",
       "    .dataframe tbody tr th {\n",
       "        vertical-align: top;\n",
       "    }\n",
       "\n",
       "    .dataframe thead th {\n",
       "        text-align: right;\n",
       "    }\n",
       "</style>\n",
       "<table border=\"1\" class=\"dataframe\">\n",
       "  <thead>\n",
       "    <tr style=\"text-align: right;\">\n",
       "      <th></th>\n",
       "      <th>interaction_score</th>\n",
       "    </tr>\n",
       "  </thead>\n",
       "  <tbody>\n",
       "    <tr>\n",
       "      <th>count</th>\n",
       "      <td>1005.000000</td>\n",
       "    </tr>\n",
       "    <tr>\n",
       "      <th>mean</th>\n",
       "      <td>4.236816</td>\n",
       "    </tr>\n",
       "    <tr>\n",
       "      <th>std</th>\n",
       "      <td>0.980709</td>\n",
       "    </tr>\n",
       "    <tr>\n",
       "      <th>min</th>\n",
       "      <td>1.000000</td>\n",
       "    </tr>\n",
       "    <tr>\n",
       "      <th>25%</th>\n",
       "      <td>3.000000</td>\n",
       "    </tr>\n",
       "    <tr>\n",
       "      <th>50%</th>\n",
       "      <td>5.000000</td>\n",
       "    </tr>\n",
       "    <tr>\n",
       "      <th>75%</th>\n",
       "      <td>5.000000</td>\n",
       "    </tr>\n",
       "    <tr>\n",
       "      <th>max</th>\n",
       "      <td>5.000000</td>\n",
       "    </tr>\n",
       "  </tbody>\n",
       "</table>\n",
       "</div>"
      ],
      "text/plain": [
       "       interaction_score\n",
       "count        1005.000000\n",
       "mean            4.236816\n",
       "std             0.980709\n",
       "min             1.000000\n",
       "25%             3.000000\n",
       "50%             5.000000\n",
       "75%             5.000000\n",
       "max             5.000000"
      ]
     },
     "execution_count": 11,
     "metadata": {},
     "output_type": "execute_result"
    }
   ],
   "source": [
    "user_item_df.describe()"
   ]
  },
  {
   "cell_type": "code",
   "execution_count": 12,
   "metadata": {},
   "outputs": [
    {
     "data": {
      "text/html": [
       "<div>\n",
       "<style scoped>\n",
       "    .dataframe tbody tr th:only-of-type {\n",
       "        vertical-align: middle;\n",
       "    }\n",
       "\n",
       "    .dataframe tbody tr th {\n",
       "        vertical-align: top;\n",
       "    }\n",
       "\n",
       "    .dataframe thead th {\n",
       "        text-align: right;\n",
       "    }\n",
       "</style>\n",
       "<table border=\"1\" class=\"dataframe\">\n",
       "  <thead>\n",
       "    <tr style=\"text-align: right;\">\n",
       "      <th></th>\n",
       "      <th>productid</th>\n",
       "      <th>productname</th>\n",
       "      <th>categoryname</th>\n",
       "      <th>farmname</th>\n",
       "      <th>farmprovince</th>\n",
       "    </tr>\n",
       "  </thead>\n",
       "  <tbody>\n",
       "    <tr>\n",
       "      <th>count</th>\n",
       "      <td>200</td>\n",
       "      <td>200</td>\n",
       "      <td>200</td>\n",
       "      <td>200</td>\n",
       "      <td>200</td>\n",
       "    </tr>\n",
       "    <tr>\n",
       "      <th>unique</th>\n",
       "      <td>200</td>\n",
       "      <td>113</td>\n",
       "      <td>8</td>\n",
       "      <td>22</td>\n",
       "      <td>12</td>\n",
       "    </tr>\n",
       "    <tr>\n",
       "      <th>top</th>\n",
       "      <td>6116fdf3-473f-4324-af54-1b950076ef52</td>\n",
       "      <td>Rau mồng tơi</td>\n",
       "      <td>Rau lá</td>\n",
       "      <td>Trang Trại Xanh</td>\n",
       "      <td>Dak Lak</td>\n",
       "    </tr>\n",
       "    <tr>\n",
       "      <th>freq</th>\n",
       "      <td>1</td>\n",
       "      <td>6</td>\n",
       "      <td>58</td>\n",
       "      <td>21</td>\n",
       "      <td>73</td>\n",
       "    </tr>\n",
       "  </tbody>\n",
       "</table>\n",
       "</div>"
      ],
      "text/plain": [
       "                                   productid   productname categoryname  \\\n",
       "count                                    200           200          200   \n",
       "unique                                   200           113            8   \n",
       "top     6116fdf3-473f-4324-af54-1b950076ef52  Rau mồng tơi       Rau lá   \n",
       "freq                                       1             6           58   \n",
       "\n",
       "               farmname farmprovince  \n",
       "count               200          200  \n",
       "unique               22           12  \n",
       "top     Trang Trại Xanh      Dak Lak  \n",
       "freq                 21           73  "
      ]
     },
     "execution_count": 12,
     "metadata": {},
     "output_type": "execute_result"
    }
   ],
   "source": [
    "product_content_df.describe()"
   ]
  },
  {
   "cell_type": "code",
   "execution_count": 13,
   "metadata": {},
   "outputs": [
    {
     "name": "stdout",
     "output_type": "stream",
     "text": [
      "<class 'pandas.core.frame.DataFrame'>\n",
      "RangeIndex: 1005 entries, 0 to 1004\n",
      "Data columns (total 4 columns):\n",
      " #   Column             Non-Null Count  Dtype \n",
      "---  ------             --------------  ----- \n",
      " 0   user_id            1005 non-null   object\n",
      " 1   product_id         1005 non-null   object\n",
      " 2   interaction_type   1005 non-null   object\n",
      " 3   interaction_score  1005 non-null   int64 \n",
      "dtypes: int64(1), object(3)\n",
      "memory usage: 31.5+ KB\n"
     ]
    }
   ],
   "source": [
    "user_item_df.info()"
   ]
  },
  {
   "cell_type": "code",
   "execution_count": 4,
   "metadata": {},
   "outputs": [
    {
     "name": "stdout",
     "output_type": "stream",
     "text": [
      "<class 'pandas.core.frame.DataFrame'>\n",
      "RangeIndex: 200 entries, 0 to 199\n",
      "Data columns (total 5 columns):\n",
      " #   Column        Non-Null Count  Dtype \n",
      "---  ------        --------------  ----- \n",
      " 0   productid     200 non-null    object\n",
      " 1   productname   200 non-null    object\n",
      " 2   categoryname  200 non-null    object\n",
      " 3   farmname      200 non-null    object\n",
      " 4   farmprovince  200 non-null    object\n",
      "dtypes: object(5)\n",
      "memory usage: 7.9+ KB\n"
     ]
    }
   ],
   "source": [
    "product_content_df.info()"
   ]
  },
  {
   "cell_type": "code",
   "execution_count": 10,
   "metadata": {},
   "outputs": [
    {
     "name": "stdout",
     "output_type": "stream",
     "text": [
      "[5 3 4 1 2]\n"
     ]
    }
   ],
   "source": [
    "print(user_item_df['interaction_score'].unique())"
   ]
  },
  {
   "cell_type": "code",
   "execution_count": 11,
   "metadata": {},
   "outputs": [
    {
     "name": "stdout",
     "output_type": "stream",
     "text": [
      "[5 3 4 1 2]\n"
     ]
    }
   ],
   "source": [
    "# Loại bỏ các bản ghi có interaction_score không nằm trong khoảng 0-5\n",
    "user_item_df = user_item_df[user_item_df['interaction_score'].between(1, 5)]\n",
    "# Kiểm tra lại các giá trị của interaction_score\n",
    "print(user_item_df['interaction_score'].unique())"
   ]
  },
  {
   "cell_type": "code",
   "execution_count": 13,
   "metadata": {},
   "outputs": [
    {
     "data": {
      "text/plain": [
       "50"
      ]
     },
     "execution_count": 13,
     "metadata": {},
     "output_type": "execute_result"
    }
   ],
   "source": [
    "num_users = user_item_df['user_id'].nunique()\n",
    "num_users"
   ]
  },
  {
   "cell_type": "code",
   "execution_count": 14,
   "metadata": {},
   "outputs": [
    {
     "data": {
      "text/plain": [
       "200"
      ]
     },
     "execution_count": 14,
     "metadata": {},
     "output_type": "execute_result"
    }
   ],
   "source": [
    "num_products = product_content_df['productid'].nunique()\n",
    "num_products"
   ]
  },
  {
   "cell_type": "code",
   "execution_count": 15,
   "metadata": {},
   "outputs": [
    {
     "name": "stdout",
     "output_type": "stream",
     "text": [
      "\n",
      "Phân bố các loại tương tác:\n",
      "interaction_type\n",
      "purchase       463\n",
      "add_to_cart    338\n",
      "review         204\n",
      "Name: count, dtype: int64\n"
     ]
    }
   ],
   "source": [
    "interaction_types = user_item_df['interaction_type'].value_counts()\n",
    "print(\"\\nPhân bố các loại tương tác:\")\n",
    "print(interaction_types)"
   ]
  },
  {
   "cell_type": "code",
   "execution_count": 16,
   "metadata": {},
   "outputs": [
    {
     "data": {
      "image/png": "[encoded data removed]",
      "text/plain": [
       "<Figure size 800x600 with 1 Axes>"
      ]
     },
     "metadata": {},
     "output_type": "display_data"
    }
   ],
   "source": [
    "plt.figure(figsize=(8,6))\n",
    "sns.countplot(x='interaction_type', data=user_item_df)\n",
    "plt.title('Phân bố các loại tương tác')\n",
    "plt.xlabel('Loại tương tác')\n",
    "plt.ylabel('Số lượng')\n",
    "plt.show()"
   ]
  },
  {
   "cell_type": "code",
   "execution_count": 17,
   "metadata": {},
   "outputs": [
    {
     "data": {
      "image/png": "[encoded data removed]",
      "text/plain": [
       "<Figure size 800x600 with 1 Axes>"
      ]
     },
     "metadata": {},
     "output_type": "display_data"
    }
   ],
   "source": [
    "# biểu đồ phân loại sản phẩm theo category\n",
    "plt.figure(figsize=(8,6))\n",
    "sns.countplot(y='categoryname', data=product_content_df, order = product_content_df['categoryname'].value_counts().index)\n",
    "plt.title('Phân bố các loại sản phẩm theo category')\n",
    "plt.xlabel('Số lượng')\n",
    "plt.ylabel('Category')\n",
    "plt.show()"
   ]
  },
  {
   "cell_type": "code",
   "execution_count": 18,
   "metadata": {},
   "outputs": [
    {
     "data": {
      "image/png": "[encoded data removed]",
      "text/plain": [
       "<Figure size 800x600 with 1 Axes>"
      ]
     },
     "metadata": {},
     "output_type": "display_data"
    }
   ],
   "source": [
    "# biểu đồ phân loại sản phẩm theo farmname\n",
    "plt.figure(figsize=(8,6))\n",
    "sns.countplot(y='farmname', data=product_content_df, order = product_content_df['farmname'].value_counts().index)\n",
    "plt.title('Phân bố các loại sản phẩm theo farmname')\n",
    "plt.xlabel('Số lượng')\n",
    "plt.ylabel('Farmname')\n",
    "plt.show()\n"
   ]
  },
  {
   "cell_type": "markdown",
   "metadata": {},
   "source": [
    "Xây dựng model"
   ]
  },
  {
   "cell_type": "code",
   "execution_count": null,
   "metadata": {},
   "outputs": [],
   "source": [
    "reader = Reader(rating_scale=(1, 5))"
   ]
  },
  {
   "cell_type": "code",
   "execution_count": 21,
   "metadata": {},
   "outputs": [
    {
     "data": {
      "text/plain": [
       "<surprise.dataset.DatasetAutoFolds at 0x208fc911490>"
      ]
     },
     "execution_count": 21,
     "metadata": {},
     "output_type": "execute_result"
    }
   ],
   "source": [
    "data = Dataset.load_from_df(user_item_df[['user_id', 'product_id', 'interaction_score']], reader)\n",
    "data"
   ]
  },
  {
   "cell_type": "code",
   "execution_count": 22,
   "metadata": {},
   "outputs": [],
   "source": [
    "trainset, testset = train_test_split(data, test_size=0.2, random_state=42)"
   ]
  },
  {
   "cell_type": "code",
   "execution_count": 23,
   "metadata": {},
   "outputs": [],
   "source": [
    "svd_model = SVD()"
   ]
  },
  {
   "cell_type": "code",
   "execution_count": 24,
   "metadata": {},
   "outputs": [
    {
     "data": {
      "text/plain": [
       "<surprise.prediction_algorithms.matrix_factorization.SVD at 0x208fcca8850>"
      ]
     },
     "execution_count": 24,
     "metadata": {},
     "output_type": "execute_result"
    }
   ],
   "source": [
    "svd_model.fit(trainset)"
   ]
  },
  {
   "cell_type": "code",
   "execution_count": 25,
   "metadata": {},
   "outputs": [],
   "source": [
    "predictions = svd_model.test(testset)\n"
   ]
  },
  {
   "cell_type": "code",
   "execution_count": 26,
   "metadata": {},
   "outputs": [
    {
     "name": "stdout",
     "output_type": "stream",
     "text": [
      "RMSE: 0.8733\n",
      "MAE:  0.7511\n"
     ]
    }
   ],
   "source": [
    "rmse = accuracy.rmse(predictions)\n",
    "mae = accuracy.mae(predictions)"
   ]
  },
  {
   "cell_type": "code",
   "execution_count": 12,
   "metadata": {},
   "outputs": [
    {
     "name": "stdout",
     "output_type": "stream",
     "text": [
      "Best parameters:  {'n_factors': 50, 'n_epochs': 20, 'lr_all': 0.005, 'reg_all': 0.05}\n"
     ]
    },
    {
     "data": {
      "text/plain": [
       "<surprise.prediction_algorithms.matrix_factorization.SVD at 0x223b1eb6210>"
      ]
     },
     "execution_count": 12,
     "metadata": {},
     "output_type": "execute_result"
    }
   ],
   "source": [
    "from surprise import SVD\n",
    "from surprise.model_selection import GridSearchCV\n",
    "\n",
    "# Define the parameter grid\n",
    "param_grid = {\n",
    "    'n_factors': [50, 100, 150],\n",
    "    'n_epochs': [20, 30, 40],\n",
    "    'lr_all': [0.002, 0.005, 0.01],\n",
    "    'reg_all': [0.02, 0.05, 0.1]\n",
    "}\n",
    "\n",
    "# Perform Grid Search\n",
    "gs = GridSearchCV(SVD, param_grid, measures=['rmse', 'mae'], cv=5)\n",
    "gs.fit(data)\n",
    "\n",
    "# Get the best parameters\n",
    "best_params = gs.best_params['rmse']\n",
    "print(\"Best parameters: \", best_params)\n",
    "\n",
    "# Initialize the SVD model with best parameters\n",
    "svd_model = SVD(n_factors=best_params['n_factors'], n_epochs=best_params['n_epochs'],\n",
    "                lr_all=best_params['lr_all'], reg_all=best_params['reg_all'])\n",
    "\n",
    "# Train the model\n",
    "svd_model.fit(trainset)"
   ]
  },
  {
   "cell_type": "code",
   "execution_count": 10,
   "metadata": {},
   "outputs": [
    {
     "name": "stdout",
     "output_type": "stream",
     "text": [
      "Best parameters for SVD:  {'n_factors': 50, 'n_epochs': 20, 'lr_all': 0.005, 'reg_all': 0.05}\n",
      "Evaluating RMSE, MAE of algorithm SVD on 5 split(s).\n",
      "\n",
      "                  Fold 1  Fold 2  Fold 3  Fold 4  Fold 5  Mean    Std     \n",
      "RMSE (testset)    0.9046  0.8451  0.9257  0.9145  0.8304  0.8841  0.0387  \n",
      "MAE (testset)     0.7653  0.7282  0.7770  0.7646  0.7370  0.7544  0.0186  \n",
      "Fit time          0.00    0.00    0.01    0.00    0.00    0.00    0.00    \n",
      "Test time         0.00    0.00    0.00    0.00    0.00    0.00    0.00    \n",
      "Computing the msd similarity matrix...\n",
      "Done computing similarity matrix.\n",
      "Computing the msd similarity matrix...\n",
      "Done computing similarity matrix.\n",
      "Computing the msd similarity matrix...\n",
      "Done computing similarity matrix.\n",
      "Computing the msd similarity matrix...\n",
      "Done computing similarity matrix.\n",
      "Computing the msd similarity matrix...\n",
      "Done computing similarity matrix.\n",
      "Computing the cosine similarity matrix...\n",
      "Done computing similarity matrix.\n",
      "Computing the cosine similarity matrix...\n",
      "Done computing similarity matrix.\n",
      "Computing the cosine similarity matrix...\n",
      "Done computing similarity matrix.\n",
      "Computing the cosine similarity matrix...\n",
      "Done computing similarity matrix.\n",
      "Computing the cosine similarity matrix...\n",
      "Done computing similarity matrix.\n",
      "Computing the pearson similarity matrix...\n",
      "Done computing similarity matrix.\n",
      "Computing the pearson similarity matrix...\n",
      "Done computing similarity matrix.\n",
      "Computing the pearson similarity matrix...\n",
      "Done computing similarity matrix.\n",
      "Computing the pearson similarity matrix...\n",
      "Done computing similarity matrix.\n",
      "Computing the pearson similarity matrix...\n",
      "Done computing similarity matrix.\n",
      "Computing the msd similarity matrix...\n",
      "Done computing similarity matrix.\n",
      "Computing the msd similarity matrix...\n",
      "Done computing similarity matrix.\n",
      "Computing the msd similarity matrix...\n",
      "Done computing similarity matrix.\n",
      "Computing the msd similarity matrix...\n",
      "Done computing similarity matrix.\n",
      "Computing the msd similarity matrix...\n",
      "Done computing similarity matrix.\n",
      "Computing the cosine similarity matrix...\n",
      "Done computing similarity matrix.\n",
      "Computing the cosine similarity matrix...\n",
      "Done computing similarity matrix.\n",
      "Computing the cosine similarity matrix...\n",
      "Done computing similarity matrix.\n",
      "Computing the cosine similarity matrix...\n",
      "Done computing similarity matrix.\n",
      "Computing the cosine similarity matrix...\n",
      "Done computing similarity matrix.\n",
      "Computing the pearson similarity matrix...\n",
      "Done computing similarity matrix.\n",
      "Computing the pearson similarity matrix...\n",
      "Done computing similarity matrix.\n",
      "Computing the pearson similarity matrix...\n",
      "Done computing similarity matrix.\n",
      "Computing the pearson similarity matrix...\n",
      "Done computing similarity matrix.\n",
      "Computing the pearson similarity matrix...\n",
      "Done computing similarity matrix.\n",
      "Computing the msd similarity matrix...\n",
      "Done computing similarity matrix.\n",
      "Computing the msd similarity matrix...\n",
      "Done computing similarity matrix.\n",
      "Computing the msd similarity matrix...\n",
      "Done computing similarity matrix.\n",
      "Computing the msd similarity matrix...\n",
      "Done computing similarity matrix.\n",
      "Computing the msd similarity matrix...\n",
      "Done computing similarity matrix.\n",
      "Computing the cosine similarity matrix...\n",
      "Done computing similarity matrix.\n",
      "Computing the cosine similarity matrix...\n",
      "Done computing similarity matrix.\n",
      "Computing the cosine similarity matrix...\n",
      "Done computing similarity matrix.\n",
      "Computing the cosine similarity matrix...\n",
      "Done computing similarity matrix.\n",
      "Computing the cosine similarity matrix...\n",
      "Done computing similarity matrix.\n",
      "Computing the pearson similarity matrix...\n",
      "Done computing similarity matrix.\n",
      "Computing the pearson similarity matrix...\n",
      "Done computing similarity matrix.\n",
      "Computing the pearson similarity matrix...\n",
      "Done computing similarity matrix.\n",
      "Computing the pearson similarity matrix...\n",
      "Done computing similarity matrix.\n",
      "Computing the pearson similarity matrix...\n",
      "Done computing similarity matrix.\n",
      "Best parameters for KNNBasic:  {'k': 40, 'sim_options': {'name': 'cosine', 'user_based': False}}\n",
      "Computing the cosine similarity matrix...\n",
      "Done computing similarity matrix.\n",
      "Computing the cosine similarity matrix...\n",
      "Done computing similarity matrix.\n",
      "Computing the cosine similarity matrix...\n",
      "Done computing similarity matrix.\n",
      "Computing the cosine similarity matrix...\n",
      "Done computing similarity matrix.\n",
      "Computing the cosine similarity matrix...\n",
      "Done computing similarity matrix.\n",
      "Evaluating RMSE, MAE of algorithm KNNBasic on 5 split(s).\n",
      "\n",
      "                  Fold 1  Fold 2  Fold 3  Fold 4  Fold 5  Mean    Std     \n",
      "RMSE (testset)    0.9754  0.8939  0.9708  0.9451  0.8702  0.9311  0.0420  \n",
      "MAE (testset)     0.7132  0.6954  0.6950  0.7139  0.6736  0.6982  0.0148  \n",
      "Fit time          0.00    0.00    0.00    0.00    0.00    0.00    0.00    \n",
      "Test time         0.01    0.00    0.00    0.00    0.00    0.00    0.00    \n"
     ]
    }
   ],
   "source": [
    "import pandas as pd\n",
    "from surprise import Dataset, Reader, SVD, KNNBasic\n",
    "from surprise.model_selection import GridSearchCV, cross_validate\n",
    "import pickle\n",
    "\n",
    "# Đọc dữ liệu từ tệp CSV\n",
    "df = pd.read_csv('../data/user_item_interactions.csv')\n",
    "\n",
    "# Chỉ giữ lại các cột cần thiết\n",
    "df = df[['user_id', 'product_id', 'interaction_score']]\n",
    "\n",
    "# Định nghĩa Reader và tải dữ liệu từ DataFrame\n",
    "reader = Reader(rating_scale=(1, 5))\n",
    "data = Dataset.load_from_df(df[['user_id', 'product_id', 'interaction_score']], reader)\n",
    "\n",
    "# Định nghĩa lưới tham số cho SVD\n",
    "param_grid_svd = {\n",
    "    'n_factors': [50, 100, 150],\n",
    "    'n_epochs': [20, 30, 40],\n",
    "    'lr_all': [0.002, 0.005, 0.01],\n",
    "    'reg_all': [0.02, 0.05, 0.1]\n",
    "}\n",
    "\n",
    "# Thực hiện Grid Search cho SVD\n",
    "gs_svd = GridSearchCV(SVD, param_grid_svd, measures=['rmse', 'mae'], cv=5)\n",
    "gs_svd.fit(data)\n",
    "\n",
    "# Lấy các tham số tốt nhất cho SVD\n",
    "best_params_svd = gs_svd.best_params['rmse']\n",
    "print(\"Best parameters for SVD: \", best_params_svd)\n",
    "\n",
    "# Khởi tạo mô hình SVD với các tham số tốt nhất\n",
    "svd_model = SVD(n_factors=best_params_svd['n_factors'], n_epochs=best_params_svd['n_epochs'],\n",
    "                lr_all=best_params_svd['lr_all'], reg_all=best_params_svd['reg_all'])\n",
    "\n",
    "# Đánh giá mô hình SVD bằng cross-validation\n",
    "cv_results_svd = cross_validate(svd_model, data, measures=['RMSE', 'MAE'], cv=5, verbose=True)\n",
    "\n",
    "# Định nghĩa lưới tham số cho KNNBasic\n",
    "param_grid_knn = {\n",
    "    'k': [20, 40, 60],\n",
    "    'sim_options': {\n",
    "        'name': ['msd', 'cosine', 'pearson'],\n",
    "        'user_based': [False]\n",
    "    }\n",
    "}\n",
    "\n",
    "# Thực hiện Grid Search cho KNNBasic\n",
    "gs_knn = GridSearchCV(KNNBasic, param_grid_knn, measures=['rmse', 'mae'], cv=5)\n",
    "gs_knn.fit(data)\n",
    "\n",
    "# Lấy các tham số tốt nhất cho KNNBasic\n",
    "best_params_knn = gs_knn.best_params['rmse']\n",
    "print(\"Best parameters for KNNBasic: \", best_params_knn)\n",
    "\n",
    "# Khởi tạo mô hình KNNBasic với các tham số tốt nhất\n",
    "knn_model = KNNBasic(k=best_params_knn['k'], sim_options=best_params_knn['sim_options'])\n",
    "\n",
    "# Đánh giá mô hình KNNBasic bằng cross-validation\n",
    "cv_results_knn = cross_validate(knn_model, data, measures=['RMSE', 'MAE'], cv=5, verbose=True)\n",
    "\n",
    "# Lưu mô hình SVD\n",
    "with open('svd_model.pkl', 'wb') as f:\n",
    "    pickle.dump(svd_model, f)\n",
    "\n",
    "# Lưu mô hình KNNBasic\n",
    "with open('knn_model.pkl', 'wb') as f:\n",
    "    pickle.dump(knn_model, f)"
   ]
  },
  {
   "cell_type": "code",
   "execution_count": 4,
   "metadata": {},
   "outputs": [],
   "source": [
    "# Đọc dữ liệu từ tệp CSV\n",
    "df = pd.read_csv('../data/user_item_interactions.csv')\n",
    "\n",
    "# Chỉ giữ lại các cột cần thiết\n",
    "df = df[['user_id', 'product_id', 'interaction_score']]\n"
   ]
  },
  {
   "cell_type": "code",
   "execution_count": 5,
   "metadata": {},
   "outputs": [],
   "source": [
    "# Định nghĩa Reader và tải dữ liệu từ DataFrame\n",
    "reader = Reader(rating_scale=(1, 5))\n",
    "data = Dataset.load_from_df(df[['user_id', 'product_id', 'interaction_score']], reader)"
   ]
  },
  {
   "cell_type": "code",
   "execution_count": 6,
   "metadata": {},
   "outputs": [],
   "source": [
    "# Định nghĩa lưới tham số cho SVD\n",
    "param_grid_svd = {\n",
    "    'n_factors': [50, 100, 150],\n",
    "    'n_epochs': [20, 30, 40],\n",
    "    'lr_all': [0.002, 0.005, 0.01],\n",
    "    'reg_all': [0.02, 0.05, 0.1]\n",
    "}"
   ]
  },
  {
   "cell_type": "code",
   "execution_count": null,
   "metadata": {},
   "outputs": [],
   "source": [
    "import pandas as pd\n",
    "from surprise import Dataset, Reader, SVD, KNNBasic\n",
    "from surprise.model_selection import GridSearchCV, cross_validate\n",
    "import pickle\n",
    "# Thực hiện Grid Search cho SVD\n",
    "gs_svd = GridSearchCV(SVD, param_grid_svd, measures=['rmse', 'mae'], cv=5)\n",
    "gs_svd.fit(data)"
   ]
  },
  {
   "cell_type": "code",
   "execution_count": 9,
   "metadata": {},
   "outputs": [
    {
     "name": "stdout",
     "output_type": "stream",
     "text": [
      "Best parameters for SVD:  {'n_factors': 50, 'n_epochs': 20, 'lr_all': 0.005, 'reg_all': 0.1}\n"
     ]
    }
   ],
   "source": [
    "# Lấy các tham số tốt nhất cho SVD\n",
    "best_params_svd = gs_svd.best_params['rmse']\n",
    "print(\"Best parameters for SVD: \", best_params_svd)"
   ]
  },
  {
   "cell_type": "code",
   "execution_count": 10,
   "metadata": {},
   "outputs": [],
   "source": [
    "svd_model = SVD(n_factors=best_params_svd['n_factors'], \n",
    "                n_epochs=best_params_svd['n_epochs'],\n",
    "                lr_all=best_params_svd['lr_all'], \n",
    "                reg_all=best_params_svd['reg_all'])"
   ]
  },
  {
   "cell_type": "code",
   "execution_count": null,
   "metadata": {},
   "outputs": [],
   "source": []
  },
  {
   "cell_type": "code",
   "execution_count": 13,
   "metadata": {},
   "outputs": [
    {
     "name": "stdout",
     "output_type": "stream",
     "text": [
      "TF-IDF Matrix shape: (200, 559)\n"
     ]
    }
   ],
   "source": [
    "import pandas as pd\n",
    "from sklearn.feature_extraction.text import TfidfVectorizer\n",
    "from sklearn.metrics.pairwise import linear_kernel\n",
    "import pickle\n",
    "\n",
    "# Giả sử bạn đã có DataFrame 'product_content_df' chứa dữ liệu sản phẩm\n",
    "product_content_df['content'] = (\n",
    "    product_content_df['productname'] + ' ' +\n",
    "    product_content_df['categoryname'] + ' ' + \n",
    "    product_content_df['farmname'] + ' ' + \n",
    "    product_content_df['farmprovince']\n",
    ")\n",
    "\n",
    "# Tiền xử lý dữ liệu văn bản\n",
    "product_content_df['content'] = product_content_df['content'].str.lower().str.replace('[^\\w\\s]', '')\n",
    "\n",
    "# Tối ưu hóa TfidfVectorizer\n",
    "tfidf = TfidfVectorizer(max_features=10000, ngram_range=(1, 2), stop_words='english')\n",
    "tfidf_matrix = tfidf.fit_transform(product_content_df['content'])\n",
    "print(f\"TF-IDF Matrix shape: {tfidf_matrix.shape}\")\n",
    "\n",
    "# Tính cosine similarity\n",
    "cosine_sim = linear_kernel(tfidf_matrix, tfidf_matrix)\n",
    "\n",
    "# Tạo Series mapping productid tới chỉ số trong DataFrame\n",
    "indices = pd.Series(product_content_df.index, index=product_content_df['productid']).drop_duplicates()\n",
    "\n",
    "# Lưu TF-IDF Vectorizer\n",
    "with open('tfidf_vectorizer.pkl', 'wb') as f:\n",
    "    pickle.dump(tfidf, f)\n",
    "\n",
    "# Lưu cosine similarity matrix\n",
    "with open('cosine_similarity.pkl', 'wb') as f:\n",
    "    pickle.dump(cosine_sim, f)"
   ]
  },
  {
   "cell_type": "code",
   "execution_count": 11,
   "metadata": {},
   "outputs": [
    {
     "data": {
      "text/html": [
       "<div>\n",
       "<style scoped>\n",
       "    .dataframe tbody tr th:only-of-type {\n",
       "        vertical-align: middle;\n",
       "    }\n",
       "\n",
       "    .dataframe tbody tr th {\n",
       "        vertical-align: top;\n",
       "    }\n",
       "\n",
       "    .dataframe thead th {\n",
       "        text-align: right;\n",
       "    }\n",
       "</style>\n",
       "<table border=\"1\" class=\"dataframe\">\n",
       "  <thead>\n",
       "    <tr style=\"text-align: right;\">\n",
       "      <th></th>\n",
       "      <th>productid</th>\n",
       "      <th>productname</th>\n",
       "      <th>categoryname</th>\n",
       "      <th>farmname</th>\n",
       "      <th>farmprovince</th>\n",
       "      <th>content</th>\n",
       "    </tr>\n",
       "  </thead>\n",
       "  <tbody>\n",
       "    <tr>\n",
       "      <th>0</th>\n",
       "      <td>6116fdf3-473f-4324-af54-1b950076ef52</td>\n",
       "      <td>Xoài Cát</td>\n",
       "      <td>Trái cây</td>\n",
       "      <td>Trang trại trái cây</td>\n",
       "      <td>Quảng Nam</td>\n",
       "      <td>Xoài Cát Trái cây Trang trại trái cây Quảng Nam</td>\n",
       "    </tr>\n",
       "    <tr>\n",
       "      <th>1</th>\n",
       "      <td>e24af3cd-fc9f-400c-8c76-8aba05a803b5</td>\n",
       "      <td>Cải Bẹ Xanh</td>\n",
       "      <td>Rau lá</td>\n",
       "      <td>Rau Hữu Cơ</td>\n",
       "      <td>Lâm Đồng</td>\n",
       "      <td>Cải Bẹ Xanh Rau lá Rau Hữu Cơ Lâm Đồng</td>\n",
       "    </tr>\n",
       "    <tr>\n",
       "      <th>2</th>\n",
       "      <td>b7237f07-c2bf-48d7-a630-3faaac02cfcc</td>\n",
       "      <td>Gạo ST25</td>\n",
       "      <td>Lương thực</td>\n",
       "      <td>Gạo sạch</td>\n",
       "      <td>Đồng Tháp</td>\n",
       "      <td>Gạo ST25 Lương thực Gạo sạch  Đồng Tháp</td>\n",
       "    </tr>\n",
       "    <tr>\n",
       "      <th>3</th>\n",
       "      <td>95827b65-ec7b-405b-bd26-6558d04211cf</td>\n",
       "      <td>Gạo nếp</td>\n",
       "      <td>Lương thực</td>\n",
       "      <td>Gạo sạch</td>\n",
       "      <td>Đồng Tháp</td>\n",
       "      <td>Gạo nếp Lương thực Gạo sạch  Đồng Tháp</td>\n",
       "    </tr>\n",
       "    <tr>\n",
       "      <th>4</th>\n",
       "      <td>aaa373ef-1cfe-4e6a-9c87-eeba7eaec713</td>\n",
       "      <td>Mãng Cầu Xiêm</td>\n",
       "      <td>Trái cây</td>\n",
       "      <td>Ngũ sắc</td>\n",
       "      <td>Dak Lak</td>\n",
       "      <td>Mãng Cầu Xiêm Trái cây Ngũ sắc Dak Lak</td>\n",
       "    </tr>\n",
       "  </tbody>\n",
       "</table>\n",
       "</div>"
      ],
      "text/plain": [
       "                              productid    productname categoryname  \\\n",
       "0  6116fdf3-473f-4324-af54-1b950076ef52       Xoài Cát     Trái cây   \n",
       "1  e24af3cd-fc9f-400c-8c76-8aba05a803b5    Cải Bẹ Xanh       Rau lá   \n",
       "2  b7237f07-c2bf-48d7-a630-3faaac02cfcc       Gạo ST25   Lương thực   \n",
       "3  95827b65-ec7b-405b-bd26-6558d04211cf        Gạo nếp   Lương thực   \n",
       "4  aaa373ef-1cfe-4e6a-9c87-eeba7eaec713  Mãng Cầu Xiêm     Trái cây   \n",
       "\n",
       "              farmname farmprovince  \\\n",
       "0  Trang trại trái cây    Quảng Nam   \n",
       "1           Rau Hữu Cơ     Lâm Đồng   \n",
       "2            Gạo sạch     Đồng Tháp   \n",
       "3            Gạo sạch     Đồng Tháp   \n",
       "4              Ngũ sắc      Dak Lak   \n",
       "\n",
       "                                           content  \n",
       "0  Xoài Cát Trái cây Trang trại trái cây Quảng Nam  \n",
       "1           Cải Bẹ Xanh Rau lá Rau Hữu Cơ Lâm Đồng  \n",
       "2          Gạo ST25 Lương thực Gạo sạch  Đồng Tháp  \n",
       "3           Gạo nếp Lương thực Gạo sạch  Đồng Tháp  \n",
       "4           Mãng Cầu Xiêm Trái cây Ngũ sắc Dak Lak  "
      ]
     },
     "execution_count": 11,
     "metadata": {},
     "output_type": "execute_result"
    }
   ],
   "source": [
    "product_content_df['content'] = (\n",
    "                                product_content_df['productname'] + ' ' +\n",
    "                                product_content_df['categoryname'] + ' ' + \n",
    "                                product_content_df['farmname'] + ' ' + \n",
    "                                product_content_df['farmprovince'])\n",
    "product_content_df.head()"
   ]
  },
  {
   "cell_type": "code",
   "execution_count": 28,
   "metadata": {},
   "outputs": [],
   "source": [
    "tfidf = TfidfVectorizer(max_features=5000, ngram_range=(1,2))"
   ]
  },
  {
   "cell_type": "code",
   "execution_count": 29,
   "metadata": {},
   "outputs": [
    {
     "name": "stdout",
     "output_type": "stream",
     "text": [
      "TF-IDF Matrix shape: (200, 561)\n"
     ]
    }
   ],
   "source": [
    "tfidf_matrix = tfidf.fit_transform(product_content_df['content'])\n",
    "print(f\"TF-IDF Matrix shape: {tfidf_matrix.shape}\")"
   ]
  },
  {
   "cell_type": "code",
   "execution_count": 31,
   "metadata": {},
   "outputs": [],
   "source": [
    "# Tính cosine similarity\n",
    "cosine_sim = linear_kernel(tfidf_matrix, tfidf_matrix)\n",
    "\n",
    "# Tạo Series mapping productid tới chỉ số trong DataFrame\n",
    "indices = pd.Series(product_content_df.index, index=product_content_df['productid']).drop_duplicates()\n"
   ]
  },
  {
   "cell_type": "code",
   "execution_count": 32,
   "metadata": {},
   "outputs": [],
   "source": [
    "def get_content_based_recommendations(productid, cosine_sim=cosine_sim, indices=indices, product_content_df=product_content_df, top_n=10):\n",
    "    if productid not in indices:\n",
    "        return []\n",
    "    \n",
    "    idx = indices[productid]\n",
    "    \n",
    "    # Lấy cosine similarity của sản phẩm với tất cả các sản phẩm khác\n",
    "    sim_scores = list(enumerate(cosine_sim[idx]))\n",
    "    \n",
    "    # Sắp xếp các sản phẩm dựa trên similarity score\n",
    "    sim_scores = sorted(sim_scores, key=lambda x: x[1], reverse=True)\n",
    "    \n",
    "    # Lấy top_n sản phẩm tương tự (bỏ qua sản phẩm đầu tiên vì đó là chính nó)\n",
    "    sim_scores = sim_scores[1:top_n+1]\n",
    "    \n",
    "    # Lấy chỉ số của các sản phẩm\n",
    "    product_indices = [i[0] for i in sim_scores]\n",
    "    \n",
    "    # Trả về danh sách productid và productname của các sản phẩm tương tự\n",
    "    return product_content_df[['productname', 'categoryname', 'farmname', 'farmprovince']].iloc[product_indices].to_dict('records')"
   ]
  },
  {
   "cell_type": "code",
   "execution_count": 33,
   "metadata": {},
   "outputs": [
    {
     "data": {
      "text/plain": [
       "[{'productname': 'Xoài Keo',\n",
       "  'categoryname': 'Trái cây',\n",
       "  'farmname': 'Trang trại trái cây',\n",
       "  'farmprovince': 'Quảng Nam'},\n",
       " {'productname': 'Ổi Hồng',\n",
       "  'categoryname': 'Trái cây',\n",
       "  'farmname': 'Trang trại trái cây',\n",
       "  'farmprovince': 'Quảng Nam'},\n",
       " {'productname': 'Chuối Tiêu',\n",
       "  'categoryname': 'Trái cây',\n",
       "  'farmname': 'Trang trại trái cây',\n",
       "  'farmprovince': 'Quảng Nam'},\n",
       " {'productname': 'Mãng Cầu Xiêm',\n",
       "  'categoryname': 'Trái cây',\n",
       "  'farmname': 'Trang trại trái cây',\n",
       "  'farmprovince': 'Quảng Nam'},\n",
       " {'productname': 'Cam Sành',\n",
       "  'categoryname': 'Trái cây',\n",
       "  'farmname': 'Trang Trại Xanh',\n",
       "  'farmprovince': 'Dak Lak'},\n",
       " {'productname': 'Mít thái',\n",
       "  'categoryname': 'Trái cây',\n",
       "  'farmname': 'Trang Trại Quỳnh Ngọc',\n",
       "  'farmprovince': 'Dak Lak'},\n",
       " {'productname': 'Bơ sáp',\n",
       "  'categoryname': 'Trái cây',\n",
       "  'farmname': 'Trang Trại Quỳnh Ngọc',\n",
       "  'farmprovince': 'Dak Lak'},\n",
       " {'productname': 'Bơ Booth',\n",
       "  'categoryname': 'Trái cây',\n",
       "  'farmname': 'Trang Trại Quỳnh Ngọc',\n",
       "  'farmprovince': 'Dak Lak'},\n",
       " {'productname': 'Xoài Keo',\n",
       "  'categoryname': 'Trái cây',\n",
       "  'farmname': 'Happiness Farm',\n",
       "  'farmprovince': 'Lâm Đồng'},\n",
       " {'productname': 'Bơ bốn mùa',\n",
       "  'categoryname': 'Trái cây',\n",
       "  'farmname': 'Trang Trại Quỳnh Ngọc',\n",
       "  'farmprovince': 'Dak Lak'}]"
      ]
     },
     "execution_count": 33,
     "metadata": {},
     "output_type": "execute_result"
    }
   ],
   "source": [
    "get_content_based_recommendations('6116fdf3-473f-4324-af54-1b950076ef52')"
   ]
  },
  {
   "cell_type": "code",
   "execution_count": 34,
   "metadata": {},
   "outputs": [],
   "source": [
    "import pickle\n",
    "\n",
    "# Lưu mô hình SVD\n",
    "with open('svd_model.pkl', 'wb') as f:\n",
    "    pickle.dump(svd_model, f)\n",
    "\n",
    "# Lưu TF-IDF Vectorizer\n",
    "with open('tfidf_vectorizer.pkl', 'wb') as f:\n",
    "    pickle.dump(tfidf, f)\n",
    "\n",
    "# Lưu cosine similarity matrix\n",
    "with open('cosine_similarity.pkl', 'wb') as f:\n",
    "    pickle.dump(cosine_sim, f)\n"
   ]
  },
  {
   "cell_type": "code",
   "execution_count": 7,
   "metadata": {},
   "outputs": [],
   "source": [
    "import pickle\n",
    "\n",
    "# Lưu mô hình SVD\n",
    "with open('svd_model.pkl', 'wb') as f:\n",
    "    pickle.dump(svd_model, f)"
   ]
  },
  {
   "cell_type": "code",
   "execution_count": 5,
   "metadata": {},
   "outputs": [
    {
     "name": "stdout",
     "output_type": "stream",
     "text": [
      "user_id\n",
      "482d17f2-55f2-44dd-a97d-7924b2dd9859    188\n",
      "013ee78c-20e1-4ca6-aa1e-d2ae19b84442    169\n",
      "e9088ef5-a4f0-47a2-b53e-1020383f2b09    167\n",
      "16b94b68-3876-4b2e-a983-57c491b9e3de    164\n",
      "7ac59731-821d-4b78-8581-6466f7599bbe    145\n",
      "15c1a68f-154c-43bb-ba87-21b4f50ef3f6    145\n",
      "e28ce424-6cc8-4371-ba90-28dba9a65f34    131\n",
      "74fd76af-31b9-4741-bd1c-d5be331ee077    124\n",
      "bcde89b9-7107-4447-b31a-09088ae73636    123\n",
      "d9deacc1-7a23-4368-b614-0fb3c1a38d1c    123\n",
      "31b9001c-75ef-4c85-92df-e8dfed4f6309    122\n",
      "6f7c368c-0c1a-42a5-84e8-7fd8505cd344    120\n",
      "ec573c84-1b84-4b78-bc10-937c4ccf6702    107\n",
      "6cf9592d-97a3-4a8b-8a1f-d7805e519c67    104\n",
      "46973dfb-2b80-474c-9889-5294f94b795d    100\n",
      "Name: interaction_score, dtype: int64\n"
     ]
    }
   ],
   "source": [
    "# Lấy top 25 user có điểm tương tác cao nhất\n",
    "user_interactions = user_item_df.groupby('user_id')['interaction_score'].sum()\n",
    "top_25_user = user_interactions.sort_values(ascending=False).head(15)\n",
    "print(top_25_user)"
   ]
  },
  {
   "cell_type": "code",
   "execution_count": 14,
   "metadata": {},
   "outputs": [],
   "source": [
    "import json\n",
    "\n",
    "def get_user_products_json(user_id, user_item_df, product_content_df):\n",
    "    # Lọc danh sách product_id từ user_item_df dựa vào user_id\n",
    "    user_products = user_item_df[user_item_df['user_id'] == user_id]['product_id'].unique()\n",
    "    \n",
    "    # Lọc thông tin chi tiết của các sản phẩm từ product_content_df\n",
    "    product_indices = product_content_df[product_content_df['productid'].isin(user_products)].index\n",
    "    \n",
    "    # Chuyển kết quả thành JSON\n",
    "    result = product_content_df[['productname', 'categoryname', 'farmname', 'farmprovince']].iloc[product_indices]\n",
    "    return json.dumps(result.to_dict('records'), ensure_ascii=False, indent=4)"
   ]
  },
  {
   "cell_type": "code",
   "execution_count": 18,
   "metadata": {},
   "outputs": [
    {
     "name": "stdout",
     "output_type": "stream",
     "text": [
      "[\n",
      "    {\n",
      "        \"productname\": \"Gạo ST25\",\n",
      "        \"categoryname\": \"Lương thực\",\n",
      "        \"farmname\": \"Gạo sạch \",\n",
      "        \"farmprovince\": \"Đồng Tháp\"\n",
      "    },\n",
      "    {\n",
      "        \"productname\": \"Mãng Cầu Xiêm\",\n",
      "        \"categoryname\": \"Trái cây\",\n",
      "        \"farmname\": \"Ngũ sắc\",\n",
      "        \"farmprovince\": \"Dak Lak\"\n",
      "    },\n",
      "    {\n",
      "        \"productname\": \"Xoài Keo\",\n",
      "        \"categoryname\": \"Trái cây\",\n",
      "        \"farmname\": \"Ngũ sắc\",\n",
      "        \"farmprovince\": \"Dak Lak\"\n",
      "    },\n",
      "    {\n",
      "        \"productname\": \"Cam Sành\",\n",
      "        \"categoryname\": \"Trái cây\",\n",
      "        \"farmname\": \"Trang Trại Xanh\",\n",
      "        \"farmprovince\": \"Dak Lak\"\n",
      "    },\n",
      "    {\n",
      "        \"productname\": \"Nho Mỹ\",\n",
      "        \"categoryname\": \"Trái cây\",\n",
      "        \"farmname\": \"Ngũ sắc\",\n",
      "        \"farmprovince\": \"Dak Lak\"\n",
      "    },\n",
      "    {\n",
      "        \"productname\": \"Gừng\",\n",
      "        \"categoryname\": \"Củ\",\n",
      "        \"farmname\": \"Cầu Đất Farm\",\n",
      "        \"farmprovince\": \"Lâm Đồng\"\n",
      "    },\n",
      "    {\n",
      "        \"productname\": \"Chanh không hạt\",\n",
      "        \"categoryname\": \"Trái cây\",\n",
      "        \"farmname\": \"Cầu Đất Farm\",\n",
      "        \"farmprovince\": \"Lâm Đồng\"\n",
      "    },\n",
      "    {\n",
      "        \"productname\": \"Su su\",\n",
      "        \"categoryname\": \"Rau quả\",\n",
      "        \"farmname\": \"Oganic Farm\",\n",
      "        \"farmprovince\": \"TP HCM\"\n",
      "    },\n",
      "    {\n",
      "        \"productname\": \"Rau lang\",\n",
      "        \"categoryname\": \"Rau lá\",\n",
      "        \"farmname\": \"Greenbot\",\n",
      "        \"farmprovince\": \"TP.HCM\"\n",
      "    },\n",
      "    {\n",
      "        \"productname\": \"Khoai tây\",\n",
      "        \"categoryname\": \"Củ\",\n",
      "        \"farmname\": \"Trang Trại Xanh\",\n",
      "        \"farmprovince\": \"Dak Lak\"\n",
      "    },\n",
      "    {\n",
      "        \"productname\": \"Cỏ ngọt\",\n",
      "        \"categoryname\": \"Dược liệu\",\n",
      "        \"farmname\": \"Thuốc Bắc\",\n",
      "        \"farmprovince\": \"Quảng Nam\"\n",
      "    },\n",
      "    {\n",
      "        \"productname\": \"Dưa hấu đỏ\",\n",
      "        \"categoryname\": \"Trái cây\",\n",
      "        \"farmname\": \"Rau củ quả\",\n",
      "        \"farmprovince\": \"Dak Lak\"\n",
      "    },\n",
      "    {\n",
      "        \"productname\": \"Dưa lưới\",\n",
      "        \"categoryname\": \"Trái cây\",\n",
      "        \"farmname\": \"Rau củ quả\",\n",
      "        \"farmprovince\": \"Dak Lak\"\n",
      "    },\n",
      "    {\n",
      "        \"productname\": \"Chanh dây\",\n",
      "        \"categoryname\": \"Trái cây\",\n",
      "        \"farmname\": \"Rau củ quả\",\n",
      "        \"farmprovince\": \"Dak Lak\"\n",
      "    },\n",
      "    {\n",
      "        \"productname\": \"Rau răm\",\n",
      "        \"categoryname\": \"Rau gia vị\",\n",
      "        \"farmname\": \"Oganic Farm\",\n",
      "        \"farmprovince\": \"TP HCM\"\n",
      "    },\n",
      "    {\n",
      "        \"productname\": \"Mãng Cầu Xiêm\",\n",
      "        \"categoryname\": \"Trái cây\",\n",
      "        \"farmname\": \"Rau củ quả\",\n",
      "        \"farmprovince\": \"Dak Lak\"\n",
      "    },\n",
      "    {\n",
      "        \"productname\": \"Tắc (Quất)\",\n",
      "        \"categoryname\": \"Trái cây\",\n",
      "        \"farmname\": \"Bình An\",\n",
      "        \"farmprovince\": \" Bình Thuận\"\n",
      "    },\n",
      "    {\n",
      "        \"productname\": \"Lê\",\n",
      "        \"categoryname\": \"Trái cây\",\n",
      "        \"farmname\": \"Bình An\",\n",
      "        \"farmprovince\": \" Bình Thuận\"\n",
      "    },\n",
      "    {\n",
      "        \"productname\": \"Mận Bắc\",\n",
      "        \"categoryname\": \"Trái cây\",\n",
      "        \"farmname\": \"Bình An\",\n",
      "        \"farmprovince\": \" Bình Thuận\"\n",
      "    },\n",
      "    {\n",
      "        \"productname\": \"Sơ Ri\",\n",
      "        \"categoryname\": \"Trái cây\",\n",
      "        \"farmname\": \"Bình An\",\n",
      "        \"farmprovince\": \" Bình Thuận\"\n",
      "    },\n",
      "    {\n",
      "        \"productname\": \"Vải Thiều\",\n",
      "        \"categoryname\": \"Trái cây\",\n",
      "        \"farmname\": \"Bình An\",\n",
      "        \"farmprovince\": \" Bình Thuận\"\n",
      "    },\n",
      "    {\n",
      "        \"productname\": \"Bí đỏ\",\n",
      "        \"categoryname\": \"Rau quả\",\n",
      "        \"farmname\": \"Xuyên Mộc\",\n",
      "        \"farmprovince\": \"BRVT\"\n",
      "    },\n",
      "    {\n",
      "        \"productname\": \"Nho Mỹ\",\n",
      "        \"categoryname\": \"Trái cây\",\n",
      "        \"farmname\": \"Rau củ quả\",\n",
      "        \"farmprovince\": \"Dak Lak\"\n",
      "    },\n",
      "    {\n",
      "        \"productname\": \"Rau nhút\",\n",
      "        \"categoryname\": \"Rau lá\",\n",
      "        \"farmname\": \"Trang Trại Xanh\",\n",
      "        \"farmprovince\": \"Dak Lak\"\n",
      "    },\n",
      "    {\n",
      "        \"productname\": \"Rau dền xanh\",\n",
      "        \"categoryname\": \"Rau lá\",\n",
      "        \"farmname\": \"Trang Trại Xanh\",\n",
      "        \"farmprovince\": \"Dak Lak\"\n",
      "    },\n",
      "    {\n",
      "        \"productname\": \"Cam sành\",\n",
      "        \"categoryname\": \"Trái cây\",\n",
      "        \"farmname\": \"Green Farm\",\n",
      "        \"farmprovince\": \"Dak Lak\"\n",
      "    },\n",
      "    {\n",
      "        \"productname\": \"Ngải cứu\",\n",
      "        \"categoryname\": \"Dược liệu\",\n",
      "        \"farmname\": \"Thuốc Bắc\",\n",
      "        \"farmprovince\": \"Quảng Nam\"\n",
      "    },\n",
      "    {\n",
      "        \"productname\": \"Xoài Keo\",\n",
      "        \"categoryname\": \"Trái cây\",\n",
      "        \"farmname\": \"Rau củ quả\",\n",
      "        \"farmprovince\": \"Dak Lak\"\n",
      "    }\n",
      "]\n"
     ]
    }
   ],
   "source": [
    "print(get_user_products_json('482d17f2-55f2-44dd-a97d-7924b2dd9859', user_item_df, product_content_df))\n",
    "result_json = get_user_products_json('482d17f2-55f2-44dd-a97d-7924b2dd9859', user_item_df, product_content_df);\n",
    "output_file = 'user_products.json'\n",
    "with open(output_file, 'w', encoding='utf-8') as file:\n",
    "    file.write(result_json)"
   ]
  },
  {
   "cell_type": "code",
   "execution_count": 6,
   "metadata": {},
   "outputs": [
    {
     "name": "stdout",
     "output_type": "stream",
     "text": [
      "user_id\n",
      "f52e9e4e-33d1-4f86-819b-d9e52ff8cc77    23\n",
      "67c766e2-a051-4554-aa1d-da7e1f63d415    28\n",
      "7e27c60c-fa8c-476f-a0f1-caf40f44b739    29\n",
      "7b973387-da99-4387-ad97-dc028b447ab5    44\n",
      "34a3554b-d552-4a82-bc40-afecebdf904e    45\n",
      "8f58f0c0-ae6c-4db8-b7a5-01263659b22f    47\n",
      "3d520dee-6f76-4948-ac58-855ca44494e4    48\n",
      "ba95d332-7fc5-4272-9659-0e61f218d0b7    49\n",
      "a98adab9-72f4-4a3d-a7f5-5f330d5bab3c    50\n",
      "4ce64499-e5fb-483e-b5d4-1ee83dacd87b    51\n",
      "678c31c4-66f7-4060-b52c-44cd42084114    52\n",
      "b6d9c6af-51d5-4375-a75b-b6d84eedd1dd    53\n",
      "49cda69a-26d0-4d3e-a7cf-49ed918db804    56\n",
      "90b24745-f642-4947-af12-0999a7d985d1    59\n",
      "0d22b583-2791-4166-aef4-d0573f42572a    63\n",
      "Name: interaction_score, dtype: int64\n"
     ]
    }
   ],
   "source": [
    "# Lấy top 25 user có điểm tương tác cao nhất\n",
    "user_interactions = user_item_df.groupby('user_id')['interaction_score'].sum()\n",
    "top_25_user = user_interactions.sort_values(ascending=True).head(15)\n",
    "print(top_25_user)"
   ]
  }
 ],
 "metadata": {
  "kernelspec": {
   "display_name": "Python 3",
   "language": "python",
   "name": "python3"
  },
  "language_info": {
   "codemirror_mode": {
    "name": "ipython",
    "version": 3
   },
   "file_extension": ".py",
   "mimetype": "text/x-python",
   "name": "python",
   "nbconvert_exporter": "python",
   "pygments_lexer": "ipython3",
   "version": "3.11.1"
  }
 },
 "nbformat": 4,
 "nbformat_minor": 2
}
